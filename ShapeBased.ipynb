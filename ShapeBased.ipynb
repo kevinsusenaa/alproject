{
  "nbformat": 4,
  "nbformat_minor": 0,
  "metadata": {
    "colab": {
      "provenance": []
    },
    "kernelspec": {
      "name": "python3",
      "display_name": "Python 3"
    },
    "language_info": {
      "name": "python"
    }
  },
  "cells": [
    {
      "cell_type": "code",
      "execution_count": null,
      "metadata": {
        "id": "I7StUQrxehTi"
      },
      "outputs": [],
      "source": [
        "import cv2\n",
        "import numpy as np\n",
        "from sklearn.svm import SVC\n",
        "from sklearn.model_selection import train_test_split\n",
        "from sklearn.metrics import accuracy_score\n",
        "\n",
        "# Fungsi untuk ekstraksi fitur bentuk dari kontur tangan\n",
        "def extract_features(contour):\n",
        "    features = []\n",
        "    \n",
        "    # Ekstraksi fitur bentuk seperti panjang, lebar, luas, dll.\n",
        "    length = cv2.arcLength(contour, True)\n",
        "    area = cv2.contourArea(contour)\n",
        "    _, _, width, height = cv2.boundingRect(contour)\n",
        "    \n",
        "    # Tambahkan fitur ke dalam list\n",
        "    features.append(length)\n",
        "    features.append(area)\n",
        "    features.append(width)\n",
        "    features.append(height)\n",
        "    \n",
        "    return features\n",
        "\n",
        "# Baca dataset gestur tangan dan ekstraksi fitur dari kontur tangan\n",
        "def load_dataset():\n",
        "    X = []  # Fitur-fitur bentuk\n",
        "    y = []  # Label gestur\n",
        "    \n",
        "    # Contoh dataset gestur tangan dengan dua kategori (0 dan 1)\n",
        "    # Ganti dengan dataset yang sesuai dengan kasus Anda\n",
        "    \n",
        "    # Contoh gestur tangan 0\n",
        "    img_0 = cv2.imread('gesture_0.jpg', 0)\n",
        "    _, threshold_0 = cv2.threshold(img_0, 127, 255, cv2.THRESH_BINARY)\n",
        "    contours_0, _ = cv2.findContours(threshold_0, cv2.RETR_EXTERNAL, cv2.CHAIN_APPROX_SIMPLE)\n",
        "    for contour in contours_0:\n",
        "        features = extract_features(contour)\n",
        "        X.append(features)\n",
        "        y.append(0)\n",
        "    \n",
        "    # Contoh gestur tangan 1\n",
        "    img_1 = cv2.imread('gesture_1.jpg', 0)\n",
        "    _, threshold_1 = cv2.threshold(img_1, 127, 255, cv2.THRESH_BINARY)\n",
        "    contours_1, _ = cv2.findContours(threshold_1, cv2.RETR_EXTERNAL, cv2.CHAIN_APPROX_SIMPLE)\n",
        "    for contour in contours_1:\n",
        "        features = extract_features(contour)\n",
        "        X.append(features)\n",
        "        y.append(1)\n",
        "    \n",
        "    return X, y\n",
        "\n",
        "# Main program\n",
        "if __name__ == '__main__':\n",
        "    # Load dataset\n",
        "    X, y = load_dataset()\n",
        "    \n",
        "    # Split dataset menjadi set pelatihan dan set pengujian\n",
        "    X_train, X_test, y_train, y_test = train_test_split(X, y, test_size=0.2, random_state=42)\n",
        "    \n",
        "    # Pelatihan model SVM\n",
        "    model = SVC()\n",
        "    model.fit(X_train, y_train)\n",
        "    \n",
        "    # Prediksi menggunakan set pengujian\n",
        "    y_pred = model.predict(X_test)\n",
        "    \n",
        "    # Evaluasi kinerja model\n",
        "    accuracy = accuracy_score(y_test, y_pred)\n",
        "    print(\"Akurasi: \", accuracy)"
      ]
    }
  ]
}